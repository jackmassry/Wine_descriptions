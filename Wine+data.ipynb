{
 "cells": [
  {
   "cell_type": "code",
   "execution_count": 3,
   "metadata": {
    "collapsed": true
   },
   "outputs": [],
   "source": [
    "%matplotlib inline\n",
    "import pandas as pd\n",
    "import matplotlib.pyplot as plt"
   ]
  },
  {
   "cell_type": "code",
   "execution_count": 4,
   "metadata": {
    "collapsed": true
   },
   "outputs": [],
   "source": [
    "data = pd.read_csv('./Downloads/wine-reviews/winemag-data_first150k.csv')"
   ]
  },
  {
   "cell_type": "code",
   "execution_count": 5,
   "metadata": {},
   "outputs": [
    {
     "data": {
      "text/html": [
       "<div>\n",
       "<style>\n",
       "    .dataframe thead tr:only-child th {\n",
       "        text-align: right;\n",
       "    }\n",
       "\n",
       "    .dataframe thead th {\n",
       "        text-align: left;\n",
       "    }\n",
       "\n",
       "    .dataframe tbody tr th {\n",
       "        vertical-align: top;\n",
       "    }\n",
       "</style>\n",
       "<table border=\"1\" class=\"dataframe\">\n",
       "  <thead>\n",
       "    <tr style=\"text-align: right;\">\n",
       "      <th></th>\n",
       "      <th>Unnamed: 0</th>\n",
       "      <th>country</th>\n",
       "      <th>description</th>\n",
       "      <th>designation</th>\n",
       "      <th>points</th>\n",
       "      <th>price</th>\n",
       "      <th>province</th>\n",
       "      <th>region_1</th>\n",
       "      <th>region_2</th>\n",
       "      <th>variety</th>\n",
       "      <th>winery</th>\n",
       "    </tr>\n",
       "  </thead>\n",
       "  <tbody>\n",
       "    <tr>\n",
       "      <th>0</th>\n",
       "      <td>0</td>\n",
       "      <td>US</td>\n",
       "      <td>This tremendous 100% varietal wine hails from ...</td>\n",
       "      <td>Martha's Vineyard</td>\n",
       "      <td>96</td>\n",
       "      <td>235.0</td>\n",
       "      <td>California</td>\n",
       "      <td>Napa Valley</td>\n",
       "      <td>Napa</td>\n",
       "      <td>Cabernet Sauvignon</td>\n",
       "      <td>Heitz</td>\n",
       "    </tr>\n",
       "    <tr>\n",
       "      <th>1</th>\n",
       "      <td>1</td>\n",
       "      <td>Spain</td>\n",
       "      <td>Ripe aromas of fig, blackberry and cassis are ...</td>\n",
       "      <td>Carodorum Selección Especial Reserva</td>\n",
       "      <td>96</td>\n",
       "      <td>110.0</td>\n",
       "      <td>Northern Spain</td>\n",
       "      <td>Toro</td>\n",
       "      <td>NaN</td>\n",
       "      <td>Tinta de Toro</td>\n",
       "      <td>Bodega Carmen Rodríguez</td>\n",
       "    </tr>\n",
       "    <tr>\n",
       "      <th>2</th>\n",
       "      <td>2</td>\n",
       "      <td>US</td>\n",
       "      <td>Mac Watson honors the memory of a wine once ma...</td>\n",
       "      <td>Special Selected Late Harvest</td>\n",
       "      <td>96</td>\n",
       "      <td>90.0</td>\n",
       "      <td>California</td>\n",
       "      <td>Knights Valley</td>\n",
       "      <td>Sonoma</td>\n",
       "      <td>Sauvignon Blanc</td>\n",
       "      <td>Macauley</td>\n",
       "    </tr>\n",
       "    <tr>\n",
       "      <th>3</th>\n",
       "      <td>3</td>\n",
       "      <td>US</td>\n",
       "      <td>This spent 20 months in 30% new French oak, an...</td>\n",
       "      <td>Reserve</td>\n",
       "      <td>96</td>\n",
       "      <td>65.0</td>\n",
       "      <td>Oregon</td>\n",
       "      <td>Willamette Valley</td>\n",
       "      <td>Willamette Valley</td>\n",
       "      <td>Pinot Noir</td>\n",
       "      <td>Ponzi</td>\n",
       "    </tr>\n",
       "    <tr>\n",
       "      <th>4</th>\n",
       "      <td>4</td>\n",
       "      <td>France</td>\n",
       "      <td>This is the top wine from La Bégude, named aft...</td>\n",
       "      <td>La Brûlade</td>\n",
       "      <td>95</td>\n",
       "      <td>66.0</td>\n",
       "      <td>Provence</td>\n",
       "      <td>Bandol</td>\n",
       "      <td>NaN</td>\n",
       "      <td>Provence red blend</td>\n",
       "      <td>Domaine de la Bégude</td>\n",
       "    </tr>\n",
       "  </tbody>\n",
       "</table>\n",
       "</div>"
      ],
      "text/plain": [
       "   Unnamed: 0 country                                        description  \\\n",
       "0           0      US  This tremendous 100% varietal wine hails from ...   \n",
       "1           1   Spain  Ripe aromas of fig, blackberry and cassis are ...   \n",
       "2           2      US  Mac Watson honors the memory of a wine once ma...   \n",
       "3           3      US  This spent 20 months in 30% new French oak, an...   \n",
       "4           4  France  This is the top wine from La Bégude, named aft...   \n",
       "\n",
       "                            designation  points  price        province  \\\n",
       "0                     Martha's Vineyard      96  235.0      California   \n",
       "1  Carodorum Selección Especial Reserva      96  110.0  Northern Spain   \n",
       "2         Special Selected Late Harvest      96   90.0      California   \n",
       "3                               Reserve      96   65.0          Oregon   \n",
       "4                            La Brûlade      95   66.0        Provence   \n",
       "\n",
       "            region_1           region_2             variety  \\\n",
       "0        Napa Valley               Napa  Cabernet Sauvignon   \n",
       "1               Toro                NaN       Tinta de Toro   \n",
       "2     Knights Valley             Sonoma     Sauvignon Blanc   \n",
       "3  Willamette Valley  Willamette Valley          Pinot Noir   \n",
       "4             Bandol                NaN  Provence red blend   \n",
       "\n",
       "                    winery  \n",
       "0                    Heitz  \n",
       "1  Bodega Carmen Rodríguez  \n",
       "2                 Macauley  \n",
       "3                    Ponzi  \n",
       "4     Domaine de la Bégude  "
      ]
     },
     "execution_count": 5,
     "metadata": {},
     "output_type": "execute_result"
    }
   ],
   "source": [
    "data.head()"
   ]
  },
  {
   "cell_type": "code",
   "execution_count": 7,
   "metadata": {},
   "outputs": [
    {
     "data": {
      "text/plain": [
       "US                        62397\n",
       "Italy                     23478\n",
       "France                    21098\n",
       "Spain                      8268\n",
       "Chile                      5816\n",
       "Argentina                  5631\n",
       "Portugal                   5322\n",
       "Australia                  4957\n",
       "New Zealand                3320\n",
       "Austria                    3057\n",
       "Germany                    2452\n",
       "South Africa               2258\n",
       "Greece                      884\n",
       "Israel                      630\n",
       "Hungary                     231\n",
       "Canada                      196\n",
       "Romania                     139\n",
       "Slovenia                     94\n",
       "Uruguay                      92\n",
       "Croatia                      89\n",
       "Bulgaria                     77\n",
       "Moldova                      71\n",
       "Mexico                       63\n",
       "Turkey                       52\n",
       "Georgia                      43\n",
       "Lebanon                      37\n",
       "Cyprus                       31\n",
       "Brazil                       25\n",
       "Macedonia                    16\n",
       "Serbia                       14\n",
       "Morocco                      12\n",
       "England                       9\n",
       "Luxembourg                    9\n",
       "Lithuania                     8\n",
       "India                         8\n",
       "Czech Republic                6\n",
       "Ukraine                       5\n",
       "Switzerland                   4\n",
       "Bosnia and Herzegovina        4\n",
       "South Korea                   4\n",
       "Slovakia                      3\n",
       "Egypt                         3\n",
       "China                         3\n",
       "Tunisia                       2\n",
       "Montenegro                    2\n",
       "Japan                         2\n",
       "Albania                       2\n",
       "US-France                     1\n",
       "Name: country, dtype: int64"
      ]
     },
     "execution_count": 7,
     "metadata": {},
     "output_type": "execute_result"
    }
   ],
   "source": [
    "countries = data[\"country\"].value_counts()\n",
    "countries"
   ]
  },
  {
   "cell_type": "code",
   "execution_count": 16,
   "metadata": {
    "collapsed": true
   },
   "outputs": [],
   "source": [
    "def isGood(points):\n",
    "    if points > 90:\n",
    "        return True\n",
    "    else:\n",
    "        return False"
   ]
  },
  {
   "cell_type": "code",
   "execution_count": 17,
   "metadata": {
    "collapsed": true
   },
   "outputs": [],
   "source": [
    "data['good_wine'] = data['points'].map(isGood)"
   ]
  },
  {
   "cell_type": "code",
   "execution_count": 21,
   "metadata": {},
   "outputs": [
    {
     "data": {
      "text/plain": [
       "good_wine\n",
       "False    118693\n",
       "True      32237\n",
       "Name: description, dtype: int64"
      ]
     },
     "execution_count": 21,
     "metadata": {},
     "output_type": "execute_result"
    }
   ],
   "source": [
    "data.groupby('good_wine').count()[\"description\"]"
   ]
  },
  {
   "cell_type": "code",
   "execution_count": 18,
   "metadata": {},
   "outputs": [
    {
     "data": {
      "text/plain": [
       "Text(0.5,1,'Percent Good')"
      ]
     },
     "execution_count": 18,
     "metadata": {},
     "output_type": "execute_result"
    },
    {
     "data": {
      "image/png": "[encoded data removed]",
      "text/plain": [
       "<matplotlib.figure.Figure at 0x10e59e358>"
      ]
     },
     "metadata": {},
     "output_type": "display_data"
    }
   ],
   "source": [
    "data.groupby('good_wine').count()['description'].plot.pie(autopct='%1.0f%%')\n",
    "plt.title(\"Percent Good\")"
   ]
  },
  {
   "cell_type": "code",
   "execution_count": 22,
   "metadata": {
    "collapsed": true
   },
   "outputs": [],
   "source": [
    "sample = data[data.good_wine].sample(32237)"
   ]
  },
  {
   "cell_type": "code",
   "execution_count": 23,
   "metadata": {
    "collapsed": true
   },
   "outputs": [],
   "source": [
    "sample = sample.append(data[~data.good_wine].sample(32237))"
   ]
  },
  {
   "cell_type": "code",
   "execution_count": 25,
   "metadata": {},
   "outputs": [
    {
     "data": {
      "text/html": [
       "<div>\n",
       "<style>\n",
       "    .dataframe thead tr:only-child th {\n",
       "        text-align: right;\n",
       "    }\n",
       "\n",
       "    .dataframe thead th {\n",
       "        text-align: left;\n",
       "    }\n",
       "\n",
       "    .dataframe tbody tr th {\n",
       "        vertical-align: top;\n",
       "    }\n",
       "</style>\n",
       "<table border=\"1\" class=\"dataframe\">\n",
       "  <thead>\n",
       "    <tr style=\"text-align: right;\">\n",
       "      <th></th>\n",
       "      <th>Unnamed: 0</th>\n",
       "      <th>country</th>\n",
       "      <th>description</th>\n",
       "      <th>designation</th>\n",
       "      <th>points</th>\n",
       "      <th>price</th>\n",
       "      <th>province</th>\n",
       "      <th>region_1</th>\n",
       "      <th>region_2</th>\n",
       "      <th>variety</th>\n",
       "      <th>winery</th>\n",
       "    </tr>\n",
       "    <tr>\n",
       "      <th>good_wine</th>\n",
       "      <th></th>\n",
       "      <th></th>\n",
       "      <th></th>\n",
       "      <th></th>\n",
       "      <th></th>\n",
       "      <th></th>\n",
       "      <th></th>\n",
       "      <th></th>\n",
       "      <th></th>\n",
       "      <th></th>\n",
       "      <th></th>\n",
       "    </tr>\n",
       "  </thead>\n",
       "  <tbody>\n",
       "    <tr>\n",
       "      <th>False</th>\n",
       "      <td>32237</td>\n",
       "      <td>32237</td>\n",
       "      <td>32237</td>\n",
       "      <td>21351</td>\n",
       "      <td>32237</td>\n",
       "      <td>29658</td>\n",
       "      <td>32237</td>\n",
       "      <td>26396</td>\n",
       "      <td>12804</td>\n",
       "      <td>32237</td>\n",
       "      <td>32237</td>\n",
       "    </tr>\n",
       "    <tr>\n",
       "      <th>True</th>\n",
       "      <td>32237</td>\n",
       "      <td>32237</td>\n",
       "      <td>32237</td>\n",
       "      <td>25981</td>\n",
       "      <td>32237</td>\n",
       "      <td>28048</td>\n",
       "      <td>32237</td>\n",
       "      <td>28569</td>\n",
       "      <td>14260</td>\n",
       "      <td>32237</td>\n",
       "      <td>32237</td>\n",
       "    </tr>\n",
       "  </tbody>\n",
       "</table>\n",
       "</div>"
      ],
      "text/plain": [
       "           Unnamed: 0  country  description  designation  points  price  \\\n",
       "good_wine                                                                 \n",
       "False           32237    32237        32237        21351   32237  29658   \n",
       "True            32237    32237        32237        25981   32237  28048   \n",
       "\n",
       "           province  region_1  region_2  variety  winery  \n",
       "good_wine                                                 \n",
       "False         32237     26396     12804    32237   32237  \n",
       "True          32237     28569     14260    32237   32237  "
      ]
     },
     "execution_count": 25,
     "metadata": {},
     "output_type": "execute_result"
    }
   ],
   "source": [
    "sample.groupby('good_wine').count()"
   ]
  },
  {
   "cell_type": "code",
   "execution_count": 26,
   "metadata": {
    "collapsed": true
   },
   "outputs": [],
   "source": [
    "from nltk.tokenize import wordpunct_tokenize\n",
    "import re\n",
    "from nltk.corpus import stopwords"
   ]
  },
  {
   "cell_type": "code",
   "execution_count": 27,
   "metadata": {
    "collapsed": true
   },
   "outputs": [],
   "source": [
    "# These are boring, filler words -- things like 'a', 'the', 'we', etc\n",
    "stopwords = stopwords.words('english')"
   ]
  },
  {
   "cell_type": "code",
   "execution_count": 28,
   "metadata": {
    "collapsed": true
   },
   "outputs": [],
   "source": [
    "sample = sample.reset_index()"
   ]
  },
  {
   "cell_type": "code",
   "execution_count": 31,
   "metadata": {},
   "outputs": [],
   "source": [
    "def tokenize(description):\n",
    "    \n",
    "    description = description.lower() # make everything lowercase\n",
    "    \n",
    "    # wordpunct_tokenize splits words by spaces or punctation, and returns an array of words\n",
    "    description = wordpunct_tokenize(description)\n",
    "    \n",
    "    # remove the stopwords\n",
    "    return [x for x in description if not x in stopwords]"
   ]
  },
  {
   "cell_type": "code",
   "execution_count": 32,
   "metadata": {
    "collapsed": true
   },
   "outputs": [],
   "source": [
    "sample['tokens'] = sample['description'].map(tokenize) # This could take a while..."
   ]
  },
  {
   "cell_type": "code",
   "execution_count": 33,
   "metadata": {
    "collapsed": true
   },
   "outputs": [],
   "source": [
    "def getFrequencies(df):\n",
    "    df = df['tokens'].map(set).map(list) # going from a list to a set to a list means we drop duplicates\n",
    "    df = df.sum() # Concatenates all the tokens. warning: THIS COULD TAKE A LONG TIME\n",
    "    return pd.Series(df).value_counts() # Value counts tells us how many users used a given word"
   ]
  },
  {
   "cell_type": "code",
   "execution_count": 36,
   "metadata": {},
   "outputs": [],
   "source": [
    "good_frequencies = getFrequencies(sample[sample.good_wine])"
   ]
  },
  {
   "cell_type": "code",
   "execution_count": 37,
   "metadata": {
    "collapsed": true
   },
   "outputs": [],
   "source": [
    "bad_frequencies = getFrequencies(sample[~sample.good_wine])"
   ]
  },
  {
   "cell_type": "code",
   "execution_count": 38,
   "metadata": {},
   "outputs": [
    {
     "data": {
      "text/plain": [
       ".          32237\n",
       ",          31963\n",
       "wine       19108\n",
       "'          14817\n",
       "flavors    14050\n",
       "-          13366\n",
       "fruit      12701\n",
       "tannins     9406\n",
       "rich        7701\n",
       "black       7558\n",
       "acidity     7433\n",
       "ripe        7382\n",
       "finish      6816\n",
       "cherry      6760\n",
       "years       6327\n",
       "drink       6260\n",
       "spice       6070\n",
       "aromas      5895\n",
       "oak         5193\n",
       "palate      5171\n",
       "dtype: int64"
      ]
     },
     "execution_count": 38,
     "metadata": {},
     "output_type": "execute_result"
    }
   ],
   "source": [
    "good_frequencies.head(20)"
   ]
  },
  {
   "cell_type": "code",
   "execution_count": 39,
   "metadata": {
    "collapsed": true
   },
   "outputs": [],
   "source": [
    "frequenices = pd.DataFrame(good_frequencies, columns=['good_count'])"
   ]
  },
  {
   "cell_type": "code",
   "execution_count": 41,
   "metadata": {},
   "outputs": [],
   "source": [
    "frequencies = frequenices.join(pd.DataFrame(bad_frequencies, columns=['bad_count'])).fillna(0)"
   ]
  },
  {
   "cell_type": "code",
   "execution_count": 42,
   "metadata": {
    "collapsed": true
   },
   "outputs": [],
   "source": [
    "frequencies = frequencies / 32237 * 100 # Let's look at percentages instead of raw counts"
   ]
  },
  {
   "cell_type": "code",
   "execution_count": 44,
   "metadata": {
    "collapsed": true
   },
   "outputs": [],
   "source": [
    "# The most interesting words are the ones where the difference in percentage usage is the highest\n",
    "frequencies['difference'] = frequencies['good_count'] - frequencies['bad_count']"
   ]
  },
  {
   "cell_type": "code",
   "execution_count": 45,
   "metadata": {},
   "outputs": [
    {
     "data": {
      "text/html": [
       "<div>\n",
       "<style>\n",
       "    .dataframe thead tr:only-child th {\n",
       "        text-align: right;\n",
       "    }\n",
       "\n",
       "    .dataframe thead th {\n",
       "        text-align: left;\n",
       "    }\n",
       "\n",
       "    .dataframe tbody tr th {\n",
       "        vertical-align: top;\n",
       "    }\n",
       "</style>\n",
       "<table border=\"1\" class=\"dataframe\">\n",
       "  <thead>\n",
       "    <tr style=\"text-align: right;\">\n",
       "      <th></th>\n",
       "      <th>good_count</th>\n",
       "      <th>bad_count</th>\n",
       "      <th>difference</th>\n",
       "    </tr>\n",
       "  </thead>\n",
       "  <tbody>\n",
       "    <tr>\n",
       "      <th>concentrated</th>\n",
       "      <td>7.494494</td>\n",
       "      <td>2.587089</td>\n",
       "      <td>4.907405</td>\n",
       "    </tr>\n",
       "    <tr>\n",
       "      <th>elegant</th>\n",
       "      <td>8.235878</td>\n",
       "      <td>3.319167</td>\n",
       "      <td>4.916711</td>\n",
       "    </tr>\n",
       "    <tr>\n",
       "      <th>powerful</th>\n",
       "      <td>6.489438</td>\n",
       "      <td>1.519993</td>\n",
       "      <td>4.969445</td>\n",
       "    </tr>\n",
       "    <tr>\n",
       "      <th>aging</th>\n",
       "      <td>7.615473</td>\n",
       "      <td>2.463008</td>\n",
       "      <td>5.152465</td>\n",
       "    </tr>\n",
       "    <tr>\n",
       "      <th>spice</th>\n",
       "      <td>18.829296</td>\n",
       "      <td>13.614790</td>\n",
       "      <td>5.214505</td>\n",
       "    </tr>\n",
       "    <tr>\n",
       "      <th>chocolate</th>\n",
       "      <td>12.069982</td>\n",
       "      <td>6.818252</td>\n",
       "      <td>5.251729</td>\n",
       "    </tr>\n",
       "    <tr>\n",
       "      <th>firm</th>\n",
       "      <td>9.960604</td>\n",
       "      <td>4.659242</td>\n",
       "      <td>5.301362</td>\n",
       "    </tr>\n",
       "    <tr>\n",
       "      <th>dense</th>\n",
       "      <td>7.848125</td>\n",
       "      <td>2.521947</td>\n",
       "      <td>5.326178</td>\n",
       "    </tr>\n",
       "    <tr>\n",
       "      <th>delicious</th>\n",
       "      <td>8.521264</td>\n",
       "      <td>2.943822</td>\n",
       "      <td>5.577442</td>\n",
       "    </tr>\n",
       "    <tr>\n",
       "      <th>fine</th>\n",
       "      <td>9.805503</td>\n",
       "      <td>4.107082</td>\n",
       "      <td>5.698421</td>\n",
       "    </tr>\n",
       "    <tr>\n",
       "      <th>cabernet</th>\n",
       "      <td>11.555045</td>\n",
       "      <td>5.810094</td>\n",
       "      <td>5.744951</td>\n",
       "    </tr>\n",
       "    <tr>\n",
       "      <th>structure</th>\n",
       "      <td>10.332847</td>\n",
       "      <td>4.569284</td>\n",
       "      <td>5.763564</td>\n",
       "    </tr>\n",
       "    <tr>\n",
       "      <th>great</th>\n",
       "      <td>9.113751</td>\n",
       "      <td>3.105128</td>\n",
       "      <td>6.008624</td>\n",
       "    </tr>\n",
       "    <tr>\n",
       "      <th>dark</th>\n",
       "      <td>12.600428</td>\n",
       "      <td>6.557682</td>\n",
       "      <td>6.042746</td>\n",
       "    </tr>\n",
       "    <tr>\n",
       "      <th>vineyard</th>\n",
       "      <td>9.020691</td>\n",
       "      <td>2.714272</td>\n",
       "      <td>6.306418</td>\n",
       "    </tr>\n",
       "    <tr>\n",
       "      <th>age</th>\n",
       "      <td>9.262649</td>\n",
       "      <td>2.825945</td>\n",
       "      <td>6.436703</td>\n",
       "    </tr>\n",
       "    <tr>\n",
       "      <th>complex</th>\n",
       "      <td>10.121910</td>\n",
       "      <td>2.757701</td>\n",
       "      <td>7.364209</td>\n",
       "    </tr>\n",
       "    <tr>\n",
       "      <th>ripe</th>\n",
       "      <td>22.899153</td>\n",
       "      <td>15.386047</td>\n",
       "      <td>7.513106</td>\n",
       "    </tr>\n",
       "    <tr>\n",
       "      <th>long</th>\n",
       "      <td>12.104104</td>\n",
       "      <td>4.361448</td>\n",
       "      <td>7.742656</td>\n",
       "    </tr>\n",
       "    <tr>\n",
       "      <th>–</th>\n",
       "      <td>12.646958</td>\n",
       "      <td>2.729783</td>\n",
       "      <td>9.917176</td>\n",
       "    </tr>\n",
       "    <tr>\n",
       "      <th>black</th>\n",
       "      <td>23.445110</td>\n",
       "      <td>13.475199</td>\n",
       "      <td>9.969910</td>\n",
       "    </tr>\n",
       "    <tr>\n",
       "      <th>tannins</th>\n",
       "      <td>29.177653</td>\n",
       "      <td>18.382604</td>\n",
       "      <td>10.795049</td>\n",
       "    </tr>\n",
       "    <tr>\n",
       "      <th>wine</th>\n",
       "      <td>59.273506</td>\n",
       "      <td>47.324503</td>\n",
       "      <td>11.949003</td>\n",
       "    </tr>\n",
       "    <tr>\n",
       "      <th>rich</th>\n",
       "      <td>23.888699</td>\n",
       "      <td>10.658560</td>\n",
       "      <td>13.230139</td>\n",
       "    </tr>\n",
       "    <tr>\n",
       "      <th>years</th>\n",
       "      <td>19.626516</td>\n",
       "      <td>5.096628</td>\n",
       "      <td>14.529888</td>\n",
       "    </tr>\n",
       "  </tbody>\n",
       "</table>\n",
       "</div>"
      ],
      "text/plain": [
       "              good_count  bad_count  difference\n",
       "concentrated    7.494494   2.587089    4.907405\n",
       "elegant         8.235878   3.319167    4.916711\n",
       "powerful        6.489438   1.519993    4.969445\n",
       "aging           7.615473   2.463008    5.152465\n",
       "spice          18.829296  13.614790    5.214505\n",
       "chocolate      12.069982   6.818252    5.251729\n",
       "firm            9.960604   4.659242    5.301362\n",
       "dense           7.848125   2.521947    5.326178\n",
       "delicious       8.521264   2.943822    5.577442\n",
       "fine            9.805503   4.107082    5.698421\n",
       "cabernet       11.555045   5.810094    5.744951\n",
       "structure      10.332847   4.569284    5.763564\n",
       "great           9.113751   3.105128    6.008624\n",
       "dark           12.600428   6.557682    6.042746\n",
       "vineyard        9.020691   2.714272    6.306418\n",
       "age             9.262649   2.825945    6.436703\n",
       "complex        10.121910   2.757701    7.364209\n",
       "ripe           22.899153  15.386047    7.513106\n",
       "long           12.104104   4.361448    7.742656\n",
       "–              12.646958   2.729783    9.917176\n",
       "black          23.445110  13.475199    9.969910\n",
       "tannins        29.177653  18.382604   10.795049\n",
       "wine           59.273506  47.324503   11.949003\n",
       "rich           23.888699  10.658560   13.230139\n",
       "years          19.626516   5.096628   14.529888"
      ]
     },
     "execution_count": 45,
     "metadata": {},
     "output_type": "execute_result"
    }
   ],
   "source": [
    "# Words used more by good wines than bad wines\n",
    "frequencies.sort_values('difference').tail(25)"
   ]
  },
  {
   "cell_type": "code",
   "execution_count": 46,
   "metadata": {},
   "outputs": [
    {
     "data": {
      "text/html": [
       "<div>\n",
       "<style>\n",
       "    .dataframe thead tr:only-child th {\n",
       "        text-align: right;\n",
       "    }\n",
       "\n",
       "    .dataframe thead th {\n",
       "        text-align: left;\n",
       "    }\n",
       "\n",
       "    .dataframe tbody tr th {\n",
       "        vertical-align: top;\n",
       "    }\n",
       "</style>\n",
       "<table border=\"1\" class=\"dataframe\">\n",
       "  <thead>\n",
       "    <tr style=\"text-align: right;\">\n",
       "      <th></th>\n",
       "      <th>good_count</th>\n",
       "      <th>bad_count</th>\n",
       "      <th>difference</th>\n",
       "    </tr>\n",
       "  </thead>\n",
       "  <tbody>\n",
       "    <tr>\n",
       "      <th>flavors</th>\n",
       "      <td>43.583460</td>\n",
       "      <td>51.202035</td>\n",
       "      <td>-7.618575</td>\n",
       "    </tr>\n",
       "    <tr>\n",
       "      <th>aromas</th>\n",
       "      <td>18.286441</td>\n",
       "      <td>25.234978</td>\n",
       "      <td>-6.948537</td>\n",
       "    </tr>\n",
       "    <tr>\n",
       "      <th>light</th>\n",
       "      <td>3.120638</td>\n",
       "      <td>8.139715</td>\n",
       "      <td>-5.019077</td>\n",
       "    </tr>\n",
       "    <tr>\n",
       "      <th>finish</th>\n",
       "      <td>21.143407</td>\n",
       "      <td>26.150076</td>\n",
       "      <td>-5.006669</td>\n",
       "    </tr>\n",
       "    <tr>\n",
       "      <th>good</th>\n",
       "      <td>7.240128</td>\n",
       "      <td>12.045165</td>\n",
       "      <td>-4.805038</td>\n",
       "    </tr>\n",
       "    <tr>\n",
       "      <th>soft</th>\n",
       "      <td>7.742656</td>\n",
       "      <td>12.544592</td>\n",
       "      <td>-4.801936</td>\n",
       "    </tr>\n",
       "    <tr>\n",
       "      <th>simple</th>\n",
       "      <td>0.269876</td>\n",
       "      <td>4.885690</td>\n",
       "      <td>-4.615814</td>\n",
       "    </tr>\n",
       "    <tr>\n",
       "      <th>fresh</th>\n",
       "      <td>7.928777</td>\n",
       "      <td>12.138226</td>\n",
       "      <td>-4.209449</td>\n",
       "    </tr>\n",
       "    <tr>\n",
       "      <th>bit</th>\n",
       "      <td>2.549865</td>\n",
       "      <td>6.728294</td>\n",
       "      <td>-4.178429</td>\n",
       "    </tr>\n",
       "    <tr>\n",
       "      <th>palate</th>\n",
       "      <td>16.040574</td>\n",
       "      <td>20.001861</td>\n",
       "      <td>-3.961287</td>\n",
       "    </tr>\n",
       "    <tr>\n",
       "      <th>easy</th>\n",
       "      <td>1.023668</td>\n",
       "      <td>4.969445</td>\n",
       "      <td>-3.945777</td>\n",
       "    </tr>\n",
       "    <tr>\n",
       "      <th>clean</th>\n",
       "      <td>2.869374</td>\n",
       "      <td>6.691069</td>\n",
       "      <td>-3.821696</td>\n",
       "    </tr>\n",
       "    <tr>\n",
       "      <th>nose</th>\n",
       "      <td>7.336291</td>\n",
       "      <td>11.114558</td>\n",
       "      <td>-3.778267</td>\n",
       "    </tr>\n",
       "    <tr>\n",
       "      <th>green</th>\n",
       "      <td>4.125694</td>\n",
       "      <td>7.807798</td>\n",
       "      <td>-3.682104</td>\n",
       "    </tr>\n",
       "    <tr>\n",
       "      <th>apple</th>\n",
       "      <td>4.386264</td>\n",
       "      <td>8.043552</td>\n",
       "      <td>-3.657288</td>\n",
       "    </tr>\n",
       "    <tr>\n",
       "      <th>little</th>\n",
       "      <td>1.938766</td>\n",
       "      <td>5.490585</td>\n",
       "      <td>-3.551819</td>\n",
       "    </tr>\n",
       "    <tr>\n",
       "      <th>crisp</th>\n",
       "      <td>6.424295</td>\n",
       "      <td>9.858237</td>\n",
       "      <td>-3.433942</td>\n",
       "    </tr>\n",
       "    <tr>\n",
       "      <th>slightly</th>\n",
       "      <td>1.768155</td>\n",
       "      <td>5.084220</td>\n",
       "      <td>-3.316065</td>\n",
       "    </tr>\n",
       "    <tr>\n",
       "      <th>medium</th>\n",
       "      <td>1.780563</td>\n",
       "      <td>5.059404</td>\n",
       "      <td>-3.278841</td>\n",
       "    </tr>\n",
       "    <tr>\n",
       "      <th>nice</th>\n",
       "      <td>1.442442</td>\n",
       "      <td>4.584794</td>\n",
       "      <td>-3.142352</td>\n",
       "    </tr>\n",
       "    <tr>\n",
       "      <th>citrus</th>\n",
       "      <td>5.391321</td>\n",
       "      <td>8.493346</td>\n",
       "      <td>-3.102026</td>\n",
       "    </tr>\n",
       "    <tr>\n",
       "      <th>fruity</th>\n",
       "      <td>3.480473</td>\n",
       "      <td>6.554580</td>\n",
       "      <td>-3.074107</td>\n",
       "    </tr>\n",
       "    <tr>\n",
       "      <th>melon</th>\n",
       "      <td>1.293545</td>\n",
       "      <td>3.840308</td>\n",
       "      <td>-2.546763</td>\n",
       "    </tr>\n",
       "    <tr>\n",
       "      <th>peach</th>\n",
       "      <td>3.896144</td>\n",
       "      <td>6.359153</td>\n",
       "      <td>-2.463008</td>\n",
       "    </tr>\n",
       "    <tr>\n",
       "      <th>berry</th>\n",
       "      <td>9.628688</td>\n",
       "      <td>12.051370</td>\n",
       "      <td>-2.422682</td>\n",
       "    </tr>\n",
       "  </tbody>\n",
       "</table>\n",
       "</div>"
      ],
      "text/plain": [
       "          good_count  bad_count  difference\n",
       "flavors    43.583460  51.202035   -7.618575\n",
       "aromas     18.286441  25.234978   -6.948537\n",
       "light       3.120638   8.139715   -5.019077\n",
       "finish     21.143407  26.150076   -5.006669\n",
       "good        7.240128  12.045165   -4.805038\n",
       "soft        7.742656  12.544592   -4.801936\n",
       "simple      0.269876   4.885690   -4.615814\n",
       "fresh       7.928777  12.138226   -4.209449\n",
       "bit         2.549865   6.728294   -4.178429\n",
       "palate     16.040574  20.001861   -3.961287\n",
       "easy        1.023668   4.969445   -3.945777\n",
       "clean       2.869374   6.691069   -3.821696\n",
       "nose        7.336291  11.114558   -3.778267\n",
       "green       4.125694   7.807798   -3.682104\n",
       "apple       4.386264   8.043552   -3.657288\n",
       "little      1.938766   5.490585   -3.551819\n",
       "crisp       6.424295   9.858237   -3.433942\n",
       "slightly    1.768155   5.084220   -3.316065\n",
       "medium      1.780563   5.059404   -3.278841\n",
       "nice        1.442442   4.584794   -3.142352\n",
       "citrus      5.391321   8.493346   -3.102026\n",
       "fruity      3.480473   6.554580   -3.074107\n",
       "melon       1.293545   3.840308   -2.546763\n",
       "peach       3.896144   6.359153   -2.463008\n",
       "berry       9.628688  12.051370   -2.422682"
      ]
     },
     "execution_count": 46,
     "metadata": {},
     "output_type": "execute_result"
    }
   ],
   "source": [
    "# Words used more by bad wines than good wines\n",
    "frequencies.sort_values('difference').head(25)"
   ]
  },
  {
   "cell_type": "code",
   "execution_count": null,
   "metadata": {
    "collapsed": true
   },
   "outputs": [],
   "source": []
  }
 ],
 "metadata": {
  "kernelspec": {
   "display_name": "Python 3",
   "language": "python",
   "name": "python3"
  },
  "language_info": {
   "codemirror_mode": {
    "name": "ipython",
    "version": 3
   },
   "file_extension": ".py",
   "mimetype": "text/x-python",
   "name": "python",
   "nbconvert_exporter": "python",
   "pygments_lexer": "ipython3",
   "version": "3.6.3"
  }
 },
 "nbformat": 4,
 "nbformat_minor": 2
}
